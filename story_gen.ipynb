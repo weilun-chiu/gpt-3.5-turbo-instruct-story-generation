{
 "cells": [
  {
   "cell_type": "code",
   "execution_count": 105,
   "metadata": {},
   "outputs": [],
   "source": [
    "import openai\n",
    "import time\n",
    "import threading\n",
    "from contextlib import contextmanager\n",
    "import re\n",
    "import os\n",
    "import pickle"
   ]
  },
  {
   "cell_type": "code",
   "execution_count": 106,
   "metadata": {},
   "outputs": [],
   "source": [
    "openai.api_key = <your openai apikey>"
   ]
  },
  {
   "cell_type": "code",
   "execution_count": 107,
   "metadata": {},
   "outputs": [],
   "source": [
    "class TimeoutException(Exception):\n",
    "    def __init__(self, msg=''):\n",
    "        self.msg = msg\n",
    "\n",
    "@contextmanager\n",
    "def time_limit(seconds, msg=''):\n",
    "    \n",
    "    timer = threading.Timer(seconds, lambda: _thread.interrupt_main())\n",
    "    timer.start()\n",
    "    try:\n",
    "        yield\n",
    "    except KeyboardInterrupt:\n",
    "        raise TimeoutException(\"Timed out for operation {}\".format(msg))\n",
    "    finally:\n",
    "        # if the action ends in specified time, timer is canceled\n",
    "        timer.cancel()"
   ]
  },
  {
   "cell_type": "code",
   "execution_count": 108,
   "metadata": {},
   "outputs": [],
   "source": [
    "def query_openai(prompt,\n",
    "                 output_tokens_number = 1024,\n",
    "                 retry=2):\n",
    "  for i in range(retry):\n",
    "    try:\n",
    "      response = openai.Completion.create(\n",
    "        model=\"gpt-3.5-turbo-instruct\",\n",
    "        max_tokens=output_tokens_number, \n",
    "        prompt=prompt, \n",
    "        n=1, # num of returned sequence\n",
    "      )\n",
    "      return response[\"choices\"][0][\"text\"]\n",
    "    except:\n",
    "      time.sleep(2)\n",
    "  print(f'query_openai fail')\n",
    "  return None"
   ]
  },
  {
   "cell_type": "code",
   "execution_count": 109,
   "metadata": {},
   "outputs": [],
   "source": [
    "class story_generator:\n",
    "    def __init__(self, id, genre, people) -> None:\n",
    "        self.id = id\n",
    "        self.genre = genre\n",
    "        self.people = people\n",
    "        self.chapter_id = 1\n",
    "        self.full_chapter_outlines = \"\"\n",
    "        self.stories = []\n",
    "        self.role = f'You are a {self.genre} author. Your task is to write {self.genre} stories for {self.people} in a vivid and intriguing language.'\n",
    "        action = f'Fill out the template below for a {self.genre} story for {self.people}.'\n",
    "        template = f'''\n",
    "        Title: [Insert story title here]\n",
    "\n",
    "        Setting: [insert setting details here, including time period, location, and any relevant background information]\n",
    "\n",
    "        Protagonist: [Insert protagonist's name, age, and occupation, as well as a brief description of their personality and motivations]\n",
    "\n",
    "        Antagonist: [Insert antagonist's name, age, and occupation, as well as a brief description of their personality and motivations]\n",
    "\n",
    "        Conflict: [Insert the main conflict of the story, including the problem the protagonist faces and the stakes involved]\n",
    "\n",
    "        Dialog: [Instructions for using dialogue to advance the plot, reveal character, and provide information to the reader]\n",
    "\n",
    "        Theme: [Insert the central theme of the story and instructions for developing it throughout the plot, character, and setting]\n",
    "\n",
    "        Tone: [Insert the desired tone for the story and instructions for maintaining consistency and appropriateness to the setting and characters]\n",
    "\n",
    "        Pacing: [Instructions for varying the pace of the story to build and release tension, advance the plot, and create dramatic effect]\n",
    "\n",
    "        Optional: [insert and additional details or requirements for the story, such as specific word count or genre constraints]\n",
    "        '''\n",
    "        prompt = self.role + action + template\n",
    "        self.setting = query_openai(prompt)\n",
    "        print(f'story setting:\\n{self.setting}')\n",
    "        self.save_to_file()\n",
    "        \n",
    "    def save_to_file(self):\n",
    "        with open(str(self.id), 'wb') as file:\n",
    "            pickle.dump(self, file)\n",
    "    \n",
    "    @classmethod\n",
    "    def load_from_file(cls, filename):\n",
    "        with open(filename, 'rb') as file:\n",
    "            return pickle.load(file)\n",
    "    \n",
    "    def write_story_to_file(self):\n",
    "        with open(f'{str(self.id)}_story', \"w\") as file:\n",
    "            for story in self.stories:\n",
    "                file.write(story + \"\\n\")\n",
    "    \n",
    "    def write_outline_to_file(self):\n",
    "        with open(f'{str(self.id)}_story_outline', \"w\") as file:\n",
    "            file.write(self.full_chapter_outlines + \"\\n\")\n",
    "    \n",
    "    def generate_next_story(self):\n",
    "        prompt = self.role + f'''\n",
    "        Given the setting, build the {self.chapter_id} chapter outline.\n",
    "        #### Setting ####\n",
    "        {self.setting}'''\n",
    "        prompt_variation = \"\"\n",
    "        if self.full_chapter_outlines != \"\":\n",
    "            prompt += f'''#### Previous Chapters ####\n",
    "            {self.full_chapter_outlines}\n",
    "            '''\n",
    "            prompt_variation = \" and Previous Chapters\"\n",
    "        prompt += f'''#### Instruction ####\n",
    "        Given the Setting{prompt_variation}, build the {self.chapter_id} chapter outline with following format:\n",
    "        #### format ####\n",
    "        Chapter {self.chapter_id}\n",
    "        event 1\n",
    "        event 2\n",
    "        event ...\n",
    "        '''\n",
    "        chapter_outline = query_openai(prompt)\n",
    "        self.full_chapter_outlines += \"\\n\" + chapter_outline\n",
    "        \n",
    "        prompt = f'''\n",
    "        {self.role}\n",
    "        #### setting ####\n",
    "        {self.setting}\n",
    "        #### chapter outlines ####\n",
    "        {self.full_chapter_outlines} \n",
    "        #### Instruction ####\n",
    "        Write chapter {self.chapter_id} in depth and in great detail, in an intriguing writing style:\n",
    "        Chapter {self.chapter_id} - [Chapter Title]\n",
    "        [Chapter Content]\n",
    "        '''\n",
    "        story = query_openai(prompt, output_tokens_number=1024)\n",
    "        print(story)\n",
    "        self.stories.append(story)\n",
    "        self.chapter_id += 1\n",
    "        self.save_to_file()\n",
    "        return story\n",
    "        "
   ]
  },
  {
   "cell_type": "code",
   "execution_count": 110,
   "metadata": {},
   "outputs": [
    {
     "name": "stdout",
     "output_type": "stream",
     "text": [
      "story setting:\n",
      "\n",
      "Title: The Enchanted Garden\n",
      "\n",
      "Setting: The story takes place in a magical garden, hidden away in a faraway land. It is always springtime in the garden, with colorful flowers and lush green trees. The garden is home to all sorts of magical creatures, such as talking animals and friendly fairies.\n",
      "\n",
      "Protagonist: Lily, a curious and kind-hearted 6-year-old girl. She loves exploring and has a great love for nature. Lily's dream is to have her own magical powers to make the world a better place.\n",
      "\n",
      "Antagonist: The evil witch, Hilda. She is jealous of the magic that exists in the garden and will stop at nothing to possess it for herself. Hilda's dark magic has caused the garden to slowly wither and fade away.\n",
      "\n",
      "Conflict: Lily must use her bravery and wit to outsmart the wicked witch and save the enchanted garden from disappearing forever. The stakes are high as without the magic of the garden, all the magical creatures, including Lily's new friends, will have to leave and the land will become dull and lifeless.\n",
      "\n",
      "Dialog: Throughout the story, use dialogue to reveal the characters' personalities and motivations. For example, when Lily meets a talking squirrel, she asks, \"How do you talk?\" The squirrel responds, \"Why, all the animals in the magical garden have the gift of speech.\" This dialogue not only shows Lily's curiosity but also hints at the magic of the garden.\n",
      "\n",
      "Theme: The central theme of the story is the power of kindness and the belief in oneself. Lily's kind heart and determination to save the garden, along with the guidance of her new friends, ultimately triumphs over the witch's dark magic. This theme can be developed through the interactions between the characters and how their actions and choices impact the outcome of the story.\n",
      "\n",
      "Tone: The tone of the story should be light and whimsical, with a touch of mystery and adventure. It should reflect the enchanted and magical setting, while also conveying a sense of danger and urgency as Lily races against time to save the garden.\n",
      "\n",
      "Pacing: The story should have a mix of fast-paced and slower moments to build and release tension. For example, when Lily is facing off against the witch, the pace should be quicker to create a sense of danger and excitement. However, during peaceful moments in the garden, the pace can slow down to allow for character development and world-building.\n",
      "\n",
      "Optional: The story should have a word count of approximately 500-700 words and can be written in any genre, as long as it retains the magical elements and themes. Illustrations can also be included to add to the visual appeal for young readers.\n"
     ]
    }
   ],
   "source": [
    "unique_id = 12345\n",
    "magic_story_for_6yr = story_generator(id = unique_id, genre = \"magic\", people = '6 years old')"
   ]
  },
  {
   "cell_type": "code",
   "execution_count": 111,
   "metadata": {},
   "outputs": [
    {
     "name": "stdout",
     "output_type": "stream",
     "text": [
      "\n",
      "Chapter 1 - A Sprinkle of Magic\n",
      "\n",
      "In a lush and beautiful garden hidden away in a faraway land, a 6-year-old girl named Lily is exploring with wide eyes and a curious heart. She follows a trail of colorful flowers and discovers something she never thought possible - talking animals. A squirrel and a bird welcome her to their magical world.\n",
      "\n",
      "Lily is amazed and asks the squirrel, \"How do you talk?\" The little animal responds, \"Why, all the creatures in this garden have the gift of speech.\" Lily's eyes widen in wonder and she can't wait to explore more of this enchanting place.\n",
      "\n",
      "As she walks further into the garden, Lily comes across a fairy with glistening wings named Flora. Flora introduces herself and tells Lily about the garden and its magical inhabitants. She also explains the importance of the garden's magic and how it's slowly fading away.\n",
      "\n",
      "\"Without the magic of this garden, all the creatures who call it home will have to leave and it will become a dull and lifeless place,\" Flora explains with a sad tone.\n",
      "\n",
      "Lily's heart sinks at the thought of this beautiful place disappearing. \"How can I help?\" she asks with determination.\n",
      "\n",
      "Flora smiles and hands Lily a small, glowing flower. \"This flower has a special power. It can detect when the evil witch, Hilda, is near. She is the one stealing the garden's magic. Please be careful, Lily.\"\n",
      "\n",
      "With newfound bravery, Lily sets off on her quest to find Hilda and stop her from taking the garden's magic. Along the way, she encounters obstacles like a river she must cross and a maze she must navigate through with the help of the talking animals.\n",
      "\n",
      "After a long journey, Lily reaches a towering castle, dark and foreboding. She sneaks inside and overhears Hilda talking to herself about her plans to steal the garden's magic and use it for her own selfish purposes.\n",
      "\n",
      "\"I must stop her,\" Lily thinks to herself. She comes up with a plan and uses the magical flower to find the source of the garden's magic.\n",
      "\n",
      "As she approaches Hilda's chamber, Lily sees the witch preparing to perform a powerful spell. She quickly runs in and distracts Hilda with a flurry of questions. While Hilda is confused and off-guard, Lily casts the spell and discovers a powerful incantation that can revive the garden.\n",
      "\n",
      "But just as she is about to start the spell, Hilda appears and tries to stop her. Lily stands her ground, with the help of her animal and fairy friends, and manages to weaken Hilda's dark magic.\n",
      "\n",
      "With Hilda defeated, Lily successfully casts the spell and the garden is revived. All the colorful flowers and magical creatures are brought back to life. The animals and fairies rejoice, knowing that their home is saved.\n",
      "\n",
      "Flora and the other fairies are overjoyed and thank Lily for her bravery and kindness. In gratitude, they grant her a wish - to have her own magical powers. Lily's eyes light up with excitement and she promises to use her powers to protect the garden and spread its magic to the rest of the world.\n",
      "\n",
      "As the sun starts to set, Lily says goodbye to her new friends and leaves the Enchanted Garden, knowing that she will always be welcomed back. She returns home with a newfound appreciation for the power of kindness and the magic of nature.\n",
      "\n",
      "From that day on, Lily becomes known as the brave girl who saved the Enchanted Garden with a sprinkle of magic and a heart full of kindness. \n"
     ]
    }
   ],
   "source": [
    "story = magic_story_for_6yr.generate_next_story()"
   ]
  },
  {
   "cell_type": "code",
   "execution_count": 112,
   "metadata": {},
   "outputs": [
    {
     "name": "stdout",
     "output_type": "stream",
     "text": [
      "\n",
      "Chapter 2 - A Magical Picnic in the Park\n",
      "\n",
      "After saving the Enchanted Garden from the evil witch's grasp, Lily returned home with a newfound confidence and a spark of magic in her eyes. She couldn't wait to tell her parents about her adventure and the incredible powers she had gained.\n",
      "\n",
      "The next day, Lily's parents suggested a family picnic to the park. Lily enthusiastically agreed, knowing that she could finally show off her new abilities. As they made their way to the park, Lily couldn't contain her excitement. She skipped ahead of her parents, her silver-blonde hair bouncing with each step.\n",
      "\n",
      "As they arrived at the park, they found a perfect spot under a big oak tree. Lily laid out the checkered picnic blanket and her parents unpacked the delicious sandwiches and snacks they had brought. As they enjoyed their lunch, Lily's parents asked her about her adventure in the Enchanted Garden.\n",
      "\n",
      "Lily eagerly told them everything, from meeting the talking animals and fairies to her epic battle against the evil witch. Her parents were amazed and proud of their little girl. They couldn't believe that their daughter had such incredible powers.\n",
      "\n",
      "After lunch, Lily took her parents on a tour of the park. She showed them how she could make flowers bloom with just a touch and communicate with the birds and squirrels. Her parents were in awe and couldn't believe what they were witnessing.\n",
      "\n",
      "However, their peaceful picnic was soon interrupted by an unexpected visitor. Hilda, the wicked witch, appeared in a cloud of dark smoke. She was seeking revenge against Lily for defeating her and restoring the Enchanted Garden's magic.\n",
      "\n",
      "Hilda's dark magic caused chaos in the park, with the trees withering and the animals scattering in fear. Lily remembered the powerful spell she had learned from the fairy Flora and knew she had to act fast.\n",
      "\n",
      "With her parents by her side, Lily bravely faced Hilda. Using her newly acquired magic, she countered Hilda's spells one by one, determined to protect the park and its inhabitants.\n",
      "\n",
      "As they exchanged magical blows, the other people in the park started to gather around, intrigued by the spectacle. Lily's parents watched in amazement as their daughter fearlessly stood her ground against the wicked witch.\n",
      "\n",
      "With a final burst of power, Lily and her parents managed to defeat Hilda once again. The dark clouds of smoke disappeared, and the park was restored to its natural state. The trees regained their luscious leaves, and the animals returned to their peaceful homes.\n",
      "\n",
      "The other people in the park couldn't believe what they had just witnessed. They asked Lily how she managed to fight off the witch's dark magic. Lily simply smiled and told them about the Enchanted Garden and how kindness and belief in oneself can overcome any obstacle.\n",
      "\n",
      "Her parents were beaming with pride and hugged Lily tightly, praising her for her bravery and kindness. They promised to always support her and her magical abilities.\n",
      "\n",
      "As they packed up their things and headed back home, Lily couldn't help but reflect on her journey. She realized that she didn't need to physically go to the Enchanted Garden to have magical adventures. She carried the magic within her, and she could spread kindness and magic wherever she went.\n",
      "\n",
      "As the sun started to set, Lily and her family found themselves gazing out of their window at the beautiful view of the Enchanted Garden. Lily's parents noticed a sense of contentment and peace on their daughter's face. Lily knew that the magic of the Enchanted Garden would always be a part of her, no matter where she went. And with that realization, she fell into a peaceful sleep, excited for the new adventures that awaited her.\n"
     ]
    }
   ],
   "source": [
    "story = magic_story_for_6yr.generate_next_story()"
   ]
  },
  {
   "cell_type": "code",
   "execution_count": 113,
   "metadata": {},
   "outputs": [],
   "source": [
    "magic_story_for_6yr.write_story_to_file()"
   ]
  },
  {
   "cell_type": "code",
   "execution_count": 114,
   "metadata": {},
   "outputs": [],
   "source": [
    "magic_story_for_6yr.write_outline_to_file()"
   ]
  },
  {
   "cell_type": "code",
   "execution_count": null,
   "metadata": {},
   "outputs": [],
   "source": []
  }
 ],
 "metadata": {
  "kernelspec": {
   "display_name": "Python 3",
   "language": "python",
   "name": "python3"
  },
  "language_info": {
   "codemirror_mode": {
    "name": "ipython",
    "version": 3
   },
   "file_extension": ".py",
   "mimetype": "text/x-python",
   "name": "python",
   "nbconvert_exporter": "python",
   "pygments_lexer": "ipython3",
   "version": "3.11.4"
  },
  "orig_nbformat": 4
 },
 "nbformat": 4,
 "nbformat_minor": 2
}
